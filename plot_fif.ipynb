{
 "cells": [
  {
   "cell_type": "code",
   "execution_count": 6,
   "metadata": {},
   "outputs": [
    {
     "name": "stdout",
     "output_type": "stream",
     "text": [
      "Opening raw data file /Users/tazikshahjahan/Downloads/alljoined_preprocessing/eeg_data/fif/subj03_session1_eeg.fif...\n",
      "Isotrak not found\n",
      "    Range : 0 ... 1664511 =      0.000 ...  3250.998 secs\n",
      "Ready.\n",
      "Reading 0 ... 1664511  =      0.000 ...  3250.998 secs...\n",
      "Using pyopengl with version 3.1.6\n"
     ]
    },
    {
     "data": {
      "text/plain": [
       "<mne_qt_browser._pg_figure.MNEQtBrowser at 0x35eb8a3c0>"
      ]
     },
     "execution_count": 6,
     "metadata": {},
     "output_type": "execute_result"
    }
   ],
   "source": [
    "import mne\n",
    "import matplotlib.pyplot as plt\n",
    "\n",
    "# Your .fif file path\n",
    "fif_file_path = '/Users/tazikshahjahan/Downloads/alljoined_preprocessing/eeg_data/fif/subj03_session1_eeg.fif'\n",
    "\n",
    "# Reading the raw file\n",
    "raw = mne.io.read_raw_fif(fif_file_path, preload=True)\n",
    "\n",
    "# Plotting the raw data\n",
    "fig = raw.plot(show=True)  # Set show=False to prevent it from showing interactively\n",
    "\n",
    "fig\n",
    "# # Saving the figure using matplotlib\n",
    "# plt.savefig('./subj03_session1_mne.png')  # Specify the path where you want to save the figure\n",
    "\n",
    "# plt.close()  # Close the figure to free up memory\n"
   ]
  }
 ],
 "metadata": {
  "kernelspec": {
   "display_name": "ajpreproc",
   "language": "python",
   "name": "python3"
  },
  "language_info": {
   "codemirror_mode": {
    "name": "ipython",
    "version": 3
   },
   "file_extension": ".py",
   "mimetype": "text/x-python",
   "name": "python",
   "nbconvert_exporter": "python",
   "pygments_lexer": "ipython3",
   "version": "3.12.2"
  }
 },
 "nbformat": 4,
 "nbformat_minor": 2
}
