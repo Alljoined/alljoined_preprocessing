{
 "cells": [
  {
   "cell_type": "code",
   "execution_count": 35,
   "metadata": {},
   "outputs": [],
   "source": [
    "import mne\n",
    "import pandas as pd\n",
    "import os\n",
    "import numpy as np\n",
    "import csv"
   ]
  },
  {
   "cell_type": "code",
   "execution_count": 32,
   "metadata": {},
   "outputs": [
    {
     "name": "stdout",
     "output_type": "stream",
     "text": [
      "Extracting EDF parameters from /Users/charles/Developer/all-joined/alljoined_preprocessing/eeg_data/bdf/subj04_session2.bdf...\n",
      "BDF file detected\n",
      "Setting channel info structure...\n",
      "Creating raw.info structure...\n",
      "Reading 0 ... 1784319  =      0.000 ...  3484.998 secs...\n",
      "Channels: ['Fp1', 'AF7', 'AF3', 'F1', 'F3', 'F5', 'F7', 'FT7', 'FC5', 'FC3', 'FC1', 'C1', 'C3', 'C5', 'T7', 'TP7', 'CP5', 'CP3', 'CP1', 'P1', 'P3', 'P5', 'P7', 'P9', 'PO7', 'PO3', 'O1', 'Iz', 'Oz', 'POz', 'Pz', 'CPz', 'Fpz', 'Fp2', 'AF8', 'AF4', 'AFz', 'Fz', 'F2', 'F4', 'F6', 'F8', 'FT8', 'FC6', 'FC4', 'FC2', 'FCz', 'Cz', 'C2', 'C4', 'C6', 'T8', 'TP8', 'CP6', 'CP4', 'CP2', 'P2', 'P4', 'P6', 'P8', 'P10', 'PO8', 'PO4', 'O2', 'Status']\n"
     ]
    }
   ],
   "source": [
    "bdf_file = 'subj04_session2'\n",
    "\n",
    "bdf_file_path = os.path.join('eeg_data', 'bdf', f\"{bdf_file}.bdf\") \n",
    "\n",
    "# Read the BDF file\n",
    "raw = mne.io.read_raw_bdf(bdf_file_path, preload=True)\n",
    "print(\"Channels:\", raw.ch_names)"
   ]
  },
  {
   "cell_type": "code",
   "execution_count": 28,
   "metadata": {},
   "outputs": [
    {
     "name": "stdout",
     "output_type": "stream",
     "text": [
      "Trigger channel Status has a non-zero initial value of {initial_value} (consider using initial_event=True to detect this event)\n",
      "12719 events found on stim channel Status\n",
      "Event IDs: [    1     2     3     4     5     6     7     8     9    10    11    12\n",
      "    13    14    15    16    17    18    19    20    21    22    23    24\n",
      "    25    26    27    28    29    30    31    32    33    34    35    36\n",
      "    37    38    39    40    41    42    43    44    45    46    47    48\n",
      "    49    50    51    52    53    54    55    56    57    58    59    60\n",
      "    61    62    63    64    65    66    67    68    69    70    71    72\n",
      "    73    74    75    76    77    78    79    80    81    82    83    84\n",
      "    85    86    87    88    89    90    91    92    93    94    95    96\n",
      "    97    98    99   100   101   102   103   104   105   106   107   108\n",
      "   109   110   111   112   113   114   115   116   117   118   119   120\n",
      "   151   152   153   154   155   156   157   158   159   160   161   162\n",
      "   163   164   165   166   201   202   203   204   205   206   207   208\n",
      "   209   210   211   212   213   214   215   216   251   252   253   254\n",
      " 65536 65734]\n"
     ]
    },
    {
     "name": "stdout",
     "output_type": "stream",
     "text": [
      "events.shape: (12719, 3)\n",
      "events[:10]: [[  368 65536 65734]\n",
      " [  637     0   201]\n",
      " [ 1020     0     1]\n",
      " [ 1037     0    39]\n",
      " [ 1366     0   252]\n",
      " [ 1425     0     1]\n",
      " [ 1441     0    21]\n",
      " [ 1780     0   252]\n",
      " [ 1843     0     1]\n",
      " [ 1856     0    33]]\n",
      "events[-10:]: [[1783066       0     252]\n",
      " [1783124       0      16]\n",
      " [1783137       0     102]\n",
      " [1783467       0     252]\n",
      " [1783525       0      16]\n",
      " [1783542       0      58]\n",
      " [1783876       0     252]\n",
      " [1783936       0      16]\n",
      " [1783949       0      16]\n",
      " [1784295       0     252]]\n"
     ]
    }
   ],
   "source": [
    "events = mne.find_events(raw, stim_channel='Status', shortest_event=1)\n",
    "print(\"events.shape:\", events.shape)\n",
    "print(\"events[:10]:\", events[:10])\n",
    "print(\"events[-10:]:\", events[-10:])"
   ]
  },
  {
   "cell_type": "code",
   "execution_count": 26,
   "metadata": {},
   "outputs": [
    {
     "name": "stdout",
     "output_type": "stream",
     "text": [
      "[    1     2     3     4     5     6     7     8     9    10    11    12\n",
      "    13    14    15    16    17    18    19    20    21    22    23    24\n",
      "    25    26    27    28    29    30    31    32    33    34    35    36\n",
      "    37    38    39    40    41    42    43    44    45    46    47    48\n",
      "    49    50    51    52    53    54    55    56    57    58    59    60\n",
      "    61    62    63    64    65    66    67    68    69    70    71    72\n",
      "    73    74    75    76    77    78    79    80    81    82    83    84\n",
      "    85    86    87    88    89    90    91    92    93    94    95    96\n",
      "    97    98    99   100   101   102   103   104   105   106   107   108\n",
      "   109   110   111   112   113   114   115   116   117   118   119   120\n",
      "   151   152   153   154   155   156   157   158   159   160   161   162\n",
      "   163   164   165   166   201   202   203   204   205   206   207   208\n",
      "   209   210   211   212   213   214   215   216   251   252   253   254\n",
      " 65536 65734]\n"
     ]
    },
    {
     "data": {
      "text/plain": [
       "'\\n1. **198:** start\\n2. **199:** stop\\n3. **201:** train block\\n4. **202-217:** testing blocks\\n5. **START_RECORD = 198; % the trigger to start the EEG recording**\\n6. **STOP_RECORD = 199; % the trigger to stop the EEG recording**\\n7. **CORRECT_HIT = 254; % the trigger that records a correct hit to a catch stimulus**\\n8. **FALSE_ALARM = 253; % the trigger that records a false hit to an experimental stimulus**\\n9. **CORRECT_REJ = 252; % the trigger that records a correct no-key to an experiment stimulus**\\n10. **MISS = 251; % the trigger that records a false no-key to a catch stimulus**\\n'"
      ]
     },
     "execution_count": 26,
     "metadata": {},
     "output_type": "execute_result"
    }
   ],
   "source": [
    "unique_event_ids = np.unique(events[:, 2])  # Extract unique event IDs\n",
    "print(unique_event_ids)\n",
    "\n",
    "'''\n",
    "1. **198:** start\n",
    "2. **199:** stop\n",
    "3. **201:** train block\n",
    "4. **202-217:** testing blocks\n",
    "5. **START_RECORD = 198; % the trigger to start the EEG recording**\n",
    "6. **STOP_RECORD = 199; % the trigger to stop the EEG recording**\n",
    "7. **CORRECT_HIT = 254; % the trigger that records a correct hit to a catch stimulus**\n",
    "8. **FALSE_ALARM = 253; % the trigger that records a false hit to an experimental stimulus**\n",
    "9. **CORRECT_REJ = 252; % the trigger that records a correct no-key to an experiment stimulus**\n",
    "10. **MISS = 251; % the trigger that records a false no-key to a catch stimulus**\n",
    "'''"
   ]
  },
  {
   "cell_type": "code",
   "execution_count": 46,
   "metadata": {},
   "outputs": [],
   "source": [
    "# Output our events into a .csv file\n",
    "csv_file_path = os.path.join('eeg_data', 'before', f\"{bdf_file}.csv\") \n",
    "\n",
    "with open(csv_file_path, mode='w', newline='') as file:\n",
    "    writer = csv.writer(file)\n",
    "    \n",
    "    # Write the header row\n",
    "    writer.writerow(['onset', 'sig', 'code'])\n",
    "    \n",
    "    # Write the data rows\n",
    "    for event in events:\n",
    "        writer.writerow(event)"
   ]
  },
  {
   "cell_type": "markdown",
   "metadata": {},
   "source": [
    "the cell below consolidates the triplet event codes in the raw csv file in a single event code in the parsed csv file. Oddballs are ignored. If an error is outputted, the raw csv file likely has a phantom event code, and will require manual inspection to remove it."
   ]
  },
  {
   "cell_type": "code",
   "execution_count": 48,
   "metadata": {},
   "outputs": [
    {
     "name": "stdout",
     "output_type": "stream",
     "text": [
      "Saved to:  eeg_data/after/subj04_session2.csv\n"
     ]
    }
   ],
   "source": [
    "def create_new_row(row, img_idx):\n",
    "    new_row = row.copy()\n",
    "    new_row.iloc[2] = img_idx\n",
    "\n",
    "    return new_row\n",
    "\n",
    "raw_eeg_df = pd.read_csv(csv_file_path)\n",
    "new_df = pd.DataFrame(columns=raw_eeg_df.columns)\n",
    "\n",
    "i = 2\n",
    "block_number = 1\n",
    "block_trigger_offset = 150\n",
    "error_count = 0\n",
    "\n",
    "while i < raw_eeg_df.shape[0] - 2:\n",
    "    \n",
    "    # New block, increment block number and add a block code to new csv\n",
    "    if raw_eeg_df.iloc[i, 2] == 65536:\n",
    "        block_number += 1\n",
    "        i+=3\n",
    "        \n",
    "    first_row_event_code = raw_eeg_df.iloc[i, 2]\n",
    "    second_row_event_code = raw_eeg_df.iloc[i+1, 2]\n",
    "    third_row_event_code = raw_eeg_df.iloc[i+2, 2]\n",
    "\n",
    "    # 254 - Oddball - Correct - hit \n",
    "    if third_row_event_code == 254 and first_row_event_code == block_number+block_trigger_offset:\n",
    "        pass \n",
    "    \n",
    "    # # 251 - Oddball - Miss - no hit\n",
    "    elif third_row_event_code == 251 and first_row_event_code == block_number+block_trigger_offset:\n",
    "        pass\n",
    "        \n",
    "    # 252 - Correct - no hit  \n",
    "    elif third_row_event_code == 252 and first_row_event_code == block_number:\n",
    "        img_idx = ((block_number - 1) % 8) * 120 + second_row_event_code\n",
    "        modified_row = create_new_row(raw_eeg_df.iloc[i], img_idx)\n",
    "        new_df = new_df._append(modified_row, ignore_index=True)\n",
    "        \n",
    "    # 253 - False hit \n",
    "    elif third_row_event_code == 253 and first_row_event_code == block_number:\n",
    "        img_idx = ((block_number - 1) % 8) * 120 + second_row_event_code\n",
    "        modified_row = create_new_row(raw_eeg_df.iloc[i], img_idx)\n",
    "        new_df = new_df._append(modified_row, ignore_index=True)\n",
    "\n",
    "    else:\n",
    "        if error_count < 10:\n",
    "            error_count += 1\n",
    "            print(f'Error in line {i-2}:', first_row_event_code, third_row_event_code)\n",
    "\n",
    "    # Jump 3 rows for next trial\n",
    "    i += 3\n",
    "\n",
    "# Save data\n",
    "final_output_path = csv_file_path.replace('before', 'after')\n",
    "new_df.to_csv(final_output_path, index=False)\n",
    "print('Saved to: ', final_output_path)"
   ]
  },
  {
   "cell_type": "code",
   "execution_count": null,
   "metadata": {},
   "outputs": [],
   "source": []
  }
 ],
 "metadata": {
  "kernelspec": {
   "display_name": "ajpreproc",
   "language": "python",
   "name": "python3"
  },
  "language_info": {
   "codemirror_mode": {
    "name": "ipython",
    "version": 3
   },
   "file_extension": ".py",
   "mimetype": "text/x-python",
   "name": "python",
   "nbconvert_exporter": "python",
   "pygments_lexer": "ipython3",
   "version": "3.10.13"
  }
 },
 "nbformat": 4,
 "nbformat_minor": 2
}
