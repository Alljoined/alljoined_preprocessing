{
 "cells": [
  {
   "cell_type": "code",
   "execution_count": 42,
   "metadata": {},
   "outputs": [],
   "source": [
    "import mne\n",
    "import os\n",
    "import numpy as np \n",
    "import argparse\n",
    "from sklearn.utils import shuffle\n",
    "\n",
    "mne.set_log_level('WARNING')\n",
    "\n",
    "DATA_PATH=\"/srv/eeg_reconstruction/shared/biosemi-dataset\"\n",
    "LOW_FREQ = 0.1\n",
    "HI_FREQ = 100\n",
    "output_path = os.path.join(DATA_PATH, 'final_eeg2', str(LOW_FREQ).replace('.', '') + \"_\" + str(HI_FREQ))\n",
    "\n",
    "seed = 20200220\n"
   ]
  },
  {
   "cell_type": "code",
   "execution_count": 43,
   "metadata": {},
   "outputs": [],
   "source": [
    "input_file = \"subj04_session2_eeg.fif\"\n",
    "\n",
    "# Load the BDF file\n",
    "fif_file_path = os.path.join(DATA_PATH, 'fif', input_file) \n",
    "raw = mne.io.read_raw_fif(fif_file_path, preload=True)"
   ]
  },
  {
   "cell_type": "code",
   "execution_count": 44,
   "metadata": {},
   "outputs": [
    {
     "data": {
      "text/html": [
       "<table class=\"table table-hover table-striped table-sm table-responsive small\">\n",
       "    <tr>\n",
       "        <th>Number of events</th>\n",
       "        <td>3840</td>\n",
       "    </tr>\n",
       "    <tr>\n",
       "        <th>Events</th>\n",
       "        \n",
       "        <td>1: 4<br/>10: 4<br/>100: 4<br/>101: 4<br/>102: 4<br/>103: 4<br/>104: 4<br/>105: 4<br/>106: 4<br/>107: 4<br/>108: 4<br/>109: 4<br/>11: 4<br/>110: 4<br/>111: 4<br/>112: 4<br/>113: 4<br/>114: 4<br/>115: 4<br/>116: 4<br/>117: 4<br/>118: 4<br/>119: 4<br/>12: 4<br/>120: 4<br/>121: 4<br/>122: 4<br/>123: 4<br/>124: 4<br/>125: 4<br/>126: 4<br/>127: 4<br/>128: 4<br/>129: 4<br/>13: 4<br/>130: 4<br/>131: 4<br/>132: 4<br/>133: 4<br/>134: 4<br/>135: 4<br/>136: 4<br/>137: 4<br/>138: 4<br/>139: 4<br/>14: 4<br/>140: 4<br/>141: 4<br/>142: 4<br/>143: 4<br/>144: 4<br/>145: 4<br/>146: 4<br/>147: 4<br/>148: 4<br/>149: 4<br/>15: 4<br/>150: 4<br/>151: 4<br/>152: 4<br/>153: 4<br/>154: 4<br/>155: 4<br/>156: 4<br/>157: 4<br/>158: 4<br/>159: 4<br/>16: 4<br/>160: 4<br/>161: 4<br/>162: 4<br/>163: 4<br/>164: 4<br/>165: 4<br/>166: 4<br/>167: 4<br/>168: 4<br/>169: 4<br/>17: 4<br/>170: 4<br/>171: 4<br/>172: 4<br/>173: 4<br/>174: 4<br/>175: 4<br/>176: 4<br/>177: 4<br/>178: 4<br/>179: 4<br/>18: 4<br/>180: 4<br/>181: 4<br/>182: 4<br/>183: 4<br/>184: 4<br/>185: 4<br/>186: 4<br/>187: 4<br/>188: 4<br/>189: 4<br/>19: 4<br/>190: 4<br/>191: 4<br/>192: 4<br/>193: 4<br/>194: 4<br/>195: 4<br/>196: 4<br/>197: 4<br/>198: 4<br/>199: 4<br/>2: 4<br/>20: 4<br/>200: 4<br/>201: 4<br/>202: 4<br/>203: 4<br/>204: 4<br/>205: 4<br/>206: 4<br/>207: 4<br/>208: 4<br/>209: 4<br/>21: 4<br/>210: 4<br/>211: 4<br/>212: 4<br/>213: 4<br/>214: 4<br/>215: 4<br/>216: 4<br/>217: 4<br/>218: 4<br/>219: 4<br/>22: 4<br/>220: 4<br/>221: 4<br/>222: 4<br/>223: 4<br/>224: 4<br/>225: 4<br/>226: 4<br/>227: 4<br/>228: 4<br/>229: 4<br/>23: 4<br/>230: 4<br/>231: 4<br/>232: 4<br/>233: 4<br/>234: 4<br/>235: 4<br/>236: 4<br/>237: 4<br/>238: 4<br/>239: 4<br/>24: 4<br/>240: 4<br/>241: 4<br/>242: 4<br/>243: 4<br/>244: 4<br/>245: 4<br/>246: 4<br/>247: 4<br/>248: 4<br/>249: 4<br/>25: 4<br/>250: 4<br/>251: 4<br/>252: 4<br/>253: 4<br/>254: 4<br/>255: 4<br/>256: 4<br/>257: 4<br/>258: 4<br/>259: 4<br/>26: 4<br/>260: 4<br/>261: 4<br/>262: 4<br/>263: 4<br/>264: 4<br/>265: 4<br/>266: 4<br/>267: 4<br/>268: 4<br/>269: 4<br/>27: 4<br/>270: 4<br/>271: 4<br/>272: 4<br/>273: 4<br/>274: 4<br/>275: 4<br/>276: 4<br/>277: 4<br/>278: 4<br/>279: 4<br/>28: 4<br/>280: 4<br/>281: 4<br/>282: 4<br/>283: 4<br/>284: 4<br/>285: 4<br/>286: 4<br/>287: 4<br/>288: 4<br/>289: 4<br/>29: 4<br/>290: 4<br/>291: 4<br/>292: 4<br/>293: 4<br/>294: 4<br/>295: 4<br/>296: 4<br/>297: 4<br/>298: 4<br/>299: 4<br/>3: 4<br/>30: 4<br/>300: 4<br/>301: 4<br/>302: 4<br/>303: 4<br/>304: 4<br/>305: 4<br/>306: 4<br/>307: 4<br/>308: 4<br/>309: 4<br/>31: 4<br/>310: 4<br/>311: 4<br/>312: 4<br/>313: 4<br/>314: 4<br/>315: 4<br/>316: 4<br/>317: 4<br/>318: 4<br/>319: 4<br/>32: 4<br/>320: 4<br/>321: 4<br/>322: 4<br/>323: 4<br/>324: 4<br/>325: 4<br/>326: 4<br/>327: 4<br/>328: 4<br/>329: 4<br/>33: 4<br/>330: 4<br/>331: 4<br/>332: 4<br/>333: 4<br/>334: 4<br/>335: 4<br/>336: 4<br/>337: 4<br/>338: 4<br/>339: 4<br/>34: 4<br/>340: 4<br/>341: 4<br/>342: 4<br/>343: 4<br/>344: 4<br/>345: 4<br/>346: 4<br/>347: 4<br/>348: 4<br/>349: 4<br/>35: 4<br/>350: 4<br/>351: 4<br/>352: 4<br/>353: 4<br/>354: 4<br/>355: 4<br/>356: 4<br/>357: 4<br/>358: 4<br/>359: 4<br/>36: 4<br/>360: 4<br/>361: 4<br/>362: 4<br/>363: 4<br/>364: 4<br/>365: 4<br/>366: 4<br/>367: 4<br/>368: 4<br/>369: 4<br/>37: 4<br/>370: 4<br/>371: 4<br/>372: 4<br/>373: 4<br/>374: 4<br/>375: 4<br/>376: 4<br/>377: 4<br/>378: 4<br/>379: 4<br/>38: 4<br/>380: 4<br/>381: 4<br/>382: 4<br/>383: 4<br/>384: 4<br/>385: 4<br/>386: 4<br/>387: 4<br/>388: 4<br/>389: 4<br/>39: 4<br/>390: 4<br/>391: 4<br/>392: 4<br/>393: 4<br/>394: 4<br/>395: 4<br/>396: 4<br/>397: 4<br/>398: 4<br/>399: 4<br/>4: 4<br/>40: 4<br/>400: 4<br/>401: 4<br/>402: 4<br/>403: 4<br/>404: 4<br/>405: 4<br/>406: 4<br/>407: 4<br/>408: 4<br/>409: 4<br/>41: 4<br/>410: 4<br/>411: 4<br/>412: 4<br/>413: 4<br/>414: 4<br/>415: 4<br/>416: 4<br/>417: 4<br/>418: 4<br/>419: 4<br/>42: 4<br/>420: 4<br/>421: 4<br/>422: 4<br/>423: 4<br/>424: 4<br/>425: 4<br/>426: 4<br/>427: 4<br/>428: 4<br/>429: 4<br/>43: 4<br/>430: 4<br/>431: 4<br/>432: 4<br/>433: 4<br/>434: 4<br/>435: 4<br/>436: 4<br/>437: 4<br/>438: 4<br/>439: 4<br/>44: 4<br/>440: 4<br/>441: 4<br/>442: 4<br/>443: 4<br/>444: 4<br/>445: 4<br/>446: 4<br/>447: 4<br/>448: 4<br/>449: 4<br/>45: 4<br/>450: 4<br/>451: 4<br/>452: 4<br/>453: 4<br/>454: 4<br/>455: 4<br/>456: 4<br/>457: 4<br/>458: 4<br/>459: 4<br/>46: 4<br/>460: 4<br/>461: 4<br/>462: 4<br/>463: 4<br/>464: 4<br/>465: 4<br/>466: 4<br/>467: 4<br/>468: 4<br/>469: 4<br/>47: 4<br/>470: 4<br/>471: 4<br/>472: 4<br/>473: 4<br/>474: 4<br/>475: 4<br/>476: 4<br/>477: 4<br/>478: 4<br/>479: 4<br/>48: 4<br/>480: 4<br/>481: 4<br/>482: 4<br/>483: 4<br/>484: 4<br/>485: 4<br/>486: 4<br/>487: 4<br/>488: 4<br/>489: 4<br/>49: 4<br/>490: 4<br/>491: 4<br/>492: 4<br/>493: 4<br/>494: 4<br/>495: 4<br/>496: 4<br/>497: 4<br/>498: 4<br/>499: 4<br/>5: 4<br/>50: 4<br/>500: 4<br/>501: 4<br/>502: 4<br/>503: 4<br/>504: 4<br/>505: 4<br/>506: 4<br/>507: 4<br/>508: 4<br/>509: 4<br/>51: 4<br/>510: 4<br/>511: 4<br/>512: 4<br/>513: 4<br/>514: 4<br/>515: 4<br/>516: 4<br/>517: 4<br/>518: 4<br/>519: 4<br/>52: 4<br/>520: 4<br/>521: 4<br/>522: 4<br/>523: 4<br/>524: 4<br/>525: 4<br/>526: 4<br/>527: 4<br/>528: 4<br/>529: 4<br/>53: 4<br/>530: 4<br/>531: 4<br/>532: 4<br/>533: 4<br/>534: 4<br/>535: 4<br/>536: 4<br/>537: 4<br/>538: 4<br/>539: 4<br/>54: 4<br/>540: 4<br/>541: 4<br/>542: 4<br/>543: 4<br/>544: 4<br/>545: 4<br/>546: 4<br/>547: 4<br/>548: 4<br/>549: 4<br/>55: 4<br/>550: 4<br/>551: 4<br/>552: 4<br/>553: 4<br/>554: 4<br/>555: 4<br/>556: 4<br/>557: 4<br/>558: 4<br/>559: 4<br/>56: 4<br/>560: 4<br/>561: 4<br/>562: 4<br/>563: 4<br/>564: 4<br/>565: 4<br/>566: 4<br/>567: 4<br/>568: 4<br/>569: 4<br/>57: 4<br/>570: 4<br/>571: 4<br/>572: 4<br/>573: 4<br/>574: 4<br/>575: 4<br/>576: 4<br/>577: 4<br/>578: 4<br/>579: 4<br/>58: 4<br/>580: 4<br/>581: 4<br/>582: 4<br/>583: 4<br/>584: 4<br/>585: 4<br/>586: 4<br/>587: 4<br/>588: 4<br/>589: 4<br/>59: 4<br/>590: 4<br/>591: 4<br/>592: 4<br/>593: 4<br/>594: 4<br/>595: 4<br/>596: 4<br/>597: 4<br/>598: 4<br/>599: 4<br/>6: 4<br/>60: 4<br/>600: 4<br/>601: 4<br/>602: 4<br/>603: 4<br/>604: 4<br/>605: 4<br/>606: 4<br/>607: 4<br/>608: 4<br/>609: 4<br/>61: 4<br/>610: 4<br/>611: 4<br/>612: 4<br/>613: 4<br/>614: 4<br/>615: 4<br/>616: 4<br/>617: 4<br/>618: 4<br/>619: 4<br/>62: 4<br/>620: 4<br/>621: 4<br/>622: 4<br/>623: 4<br/>624: 4<br/>625: 4<br/>626: 4<br/>627: 4<br/>628: 4<br/>629: 4<br/>63: 4<br/>630: 4<br/>631: 4<br/>632: 4<br/>633: 4<br/>634: 4<br/>635: 4<br/>636: 4<br/>637: 4<br/>638: 4<br/>639: 4<br/>64: 4<br/>640: 4<br/>641: 4<br/>642: 4<br/>643: 4<br/>644: 4<br/>645: 4<br/>646: 4<br/>647: 4<br/>648: 4<br/>649: 4<br/>65: 4<br/>650: 4<br/>651: 4<br/>652: 4<br/>653: 4<br/>654: 4<br/>655: 4<br/>656: 4<br/>657: 4<br/>658: 4<br/>659: 4<br/>66: 4<br/>660: 4<br/>661: 4<br/>662: 4<br/>663: 4<br/>664: 4<br/>665: 4<br/>666: 4<br/>667: 4<br/>668: 4<br/>669: 4<br/>67: 4<br/>670: 4<br/>671: 4<br/>672: 4<br/>673: 4<br/>674: 4<br/>675: 4<br/>676: 4<br/>677: 4<br/>678: 4<br/>679: 4<br/>68: 4<br/>680: 4<br/>681: 4<br/>682: 4<br/>683: 4<br/>684: 4<br/>685: 4<br/>686: 4<br/>687: 4<br/>688: 4<br/>689: 4<br/>69: 4<br/>690: 4<br/>691: 4<br/>692: 4<br/>693: 4<br/>694: 4<br/>695: 4<br/>696: 4<br/>697: 4<br/>698: 4<br/>699: 4<br/>7: 4<br/>70: 4<br/>700: 4<br/>701: 4<br/>702: 4<br/>703: 4<br/>704: 4<br/>705: 4<br/>706: 4<br/>707: 4<br/>708: 4<br/>709: 4<br/>71: 4<br/>710: 4<br/>711: 4<br/>712: 4<br/>713: 4<br/>714: 4<br/>715: 4<br/>716: 4<br/>717: 4<br/>718: 4<br/>719: 4<br/>72: 4<br/>720: 4<br/>721: 4<br/>722: 4<br/>723: 4<br/>724: 4<br/>725: 4<br/>726: 4<br/>727: 4<br/>728: 4<br/>729: 4<br/>73: 4<br/>730: 4<br/>731: 4<br/>732: 4<br/>733: 4<br/>734: 4<br/>735: 4<br/>736: 4<br/>737: 4<br/>738: 4<br/>739: 4<br/>74: 4<br/>740: 4<br/>741: 4<br/>742: 4<br/>743: 4<br/>744: 4<br/>745: 4<br/>746: 4<br/>747: 4<br/>748: 4<br/>749: 4<br/>75: 4<br/>750: 4<br/>751: 4<br/>752: 4<br/>753: 4<br/>754: 4<br/>755: 4<br/>756: 4<br/>757: 4<br/>758: 4<br/>759: 4<br/>76: 4<br/>760: 4<br/>761: 4<br/>762: 4<br/>763: 4<br/>764: 4<br/>765: 4<br/>766: 4<br/>767: 4<br/>768: 4<br/>769: 4<br/>77: 4<br/>770: 4<br/>771: 4<br/>772: 4<br/>773: 4<br/>774: 4<br/>775: 4<br/>776: 4<br/>777: 4<br/>778: 4<br/>779: 4<br/>78: 4<br/>780: 4<br/>781: 4<br/>782: 4<br/>783: 4<br/>784: 4<br/>785: 4<br/>786: 4<br/>787: 4<br/>788: 4<br/>789: 4<br/>79: 4<br/>790: 4<br/>791: 4<br/>792: 4<br/>793: 4<br/>794: 4<br/>795: 4<br/>796: 4<br/>797: 4<br/>798: 4<br/>799: 4<br/>8: 4<br/>80: 4<br/>800: 4<br/>801: 4<br/>802: 4<br/>803: 4<br/>804: 4<br/>805: 4<br/>806: 4<br/>807: 4<br/>808: 4<br/>809: 4<br/>81: 4<br/>810: 4<br/>811: 4<br/>812: 4<br/>813: 4<br/>814: 4<br/>815: 4<br/>816: 4<br/>817: 4<br/>818: 4<br/>819: 4<br/>82: 4<br/>820: 4<br/>821: 4<br/>822: 4<br/>823: 4<br/>824: 4<br/>825: 4<br/>826: 4<br/>827: 4<br/>828: 4<br/>829: 4<br/>83: 4<br/>830: 4<br/>831: 4<br/>832: 4<br/>833: 4<br/>834: 4<br/>835: 4<br/>836: 4<br/>837: 4<br/>838: 4<br/>839: 4<br/>84: 4<br/>840: 4<br/>841: 4<br/>842: 4<br/>843: 4<br/>844: 4<br/>845: 4<br/>846: 4<br/>847: 4<br/>848: 4<br/>849: 4<br/>85: 4<br/>850: 4<br/>851: 4<br/>852: 4<br/>853: 4<br/>854: 4<br/>855: 4<br/>856: 4<br/>857: 4<br/>858: 4<br/>859: 4<br/>86: 4<br/>860: 4<br/>861: 4<br/>862: 4<br/>863: 4<br/>864: 4<br/>865: 4<br/>866: 4<br/>867: 4<br/>868: 4<br/>869: 4<br/>87: 4<br/>870: 4<br/>871: 4<br/>872: 4<br/>873: 4<br/>874: 4<br/>875: 4<br/>876: 4<br/>877: 4<br/>878: 4<br/>879: 4<br/>88: 4<br/>880: 4<br/>881: 4<br/>882: 4<br/>883: 4<br/>884: 4<br/>885: 4<br/>886: 4<br/>887: 4<br/>888: 4<br/>889: 4<br/>89: 4<br/>890: 4<br/>891: 4<br/>892: 4<br/>893: 4<br/>894: 4<br/>895: 4<br/>896: 4<br/>897: 4<br/>898: 4<br/>899: 4<br/>9: 4<br/>90: 4<br/>900: 4<br/>901: 4<br/>902: 4<br/>903: 4<br/>904: 4<br/>905: 4<br/>906: 4<br/>907: 4<br/>908: 4<br/>909: 4<br/>91: 4<br/>910: 4<br/>911: 4<br/>912: 4<br/>913: 4<br/>914: 4<br/>915: 4<br/>916: 4<br/>917: 4<br/>918: 4<br/>919: 4<br/>92: 4<br/>920: 4<br/>921: 4<br/>922: 4<br/>923: 4<br/>924: 4<br/>925: 4<br/>926: 4<br/>927: 4<br/>928: 4<br/>929: 4<br/>93: 4<br/>930: 4<br/>931: 4<br/>932: 4<br/>933: 4<br/>934: 4<br/>935: 4<br/>936: 4<br/>937: 4<br/>938: 4<br/>939: 4<br/>94: 4<br/>940: 4<br/>941: 4<br/>942: 4<br/>943: 4<br/>944: 4<br/>945: 4<br/>946: 4<br/>947: 4<br/>948: 4<br/>949: 4<br/>95: 4<br/>950: 4<br/>951: 4<br/>952: 4<br/>953: 4<br/>954: 4<br/>955: 4<br/>956: 4<br/>957: 4<br/>958: 4<br/>959: 4<br/>96: 4<br/>960: 4<br/>97: 4<br/>98: 4<br/>99: 4</td>\n",
       "        \n",
       "    </tr>\n",
       "    <tr>\n",
       "        <th>Time range</th>\n",
       "        <td>-0.051 – 0.600 s</td>\n",
       "    </tr>\n",
       "    <tr>\n",
       "        <th>Baseline</th>\n",
       "        <td>-0.051 – 0.000 s</td>\n",
       "    </tr>\n",
       "</table>"
      ],
      "text/plain": [
       "<Epochs |  3840 events (all good), -0.0507812 – 0.599609 s, baseline -0.0507812 – 0 s, ~626.3 MB, data loaded,\n",
       " '1': 4\n",
       " '2': 4\n",
       " '3': 4\n",
       " '4': 4\n",
       " '5': 4\n",
       " '6': 4\n",
       " '7': 4\n",
       " '8': 4\n",
       " '9': 4\n",
       " '10': 4\n",
       " and 950 more events ...>"
      ]
     },
     "execution_count": 44,
     "metadata": {},
     "output_type": "execute_result"
    }
   ],
   "source": [
    "events = mne.find_events(raw)\n",
    "epochs = mne.Epochs(raw, events, tmin=-0.05, tmax=0.60, baseline=(None,0), preload=True)\n",
    "epochs.drop_channels(['Status'])"
   ]
  },
  {
   "cell_type": "code",
   "execution_count": 33,
   "metadata": {},
   "outputs": [],
   "source": [
    "data = epochs.get_data(copy=True)\n",
    "events = epochs.events[:,2]\n",
    "img_cond = np.unique(events)\n",
    "del epochs\n",
    "max_rep = 4\n"
   ]
  },
  {
   "cell_type": "code",
   "execution_count": 35,
   "metadata": {},
   "outputs": [],
   "source": [
    "epoched_data = []\n",
    "img_conditions = []\n",
    "\n",
    "# Sorted data matrix of shape:\n",
    "# Image conditions × EEG repetitions × EEG channels × EEG time points\n",
    "sorted_data = np.zeros((len(img_cond),max_rep,data.shape[1], data.shape[2]))\n",
    "for i in range(len(img_cond)):\n",
    "    # Find the indices of the selected image condition\n",
    "    idx = np.where(events == img_cond[i])[0]\n",
    "    # Randomly select only the max number of EEG repetitions\n",
    "    idx = shuffle(idx, random_state=seed, n_samples=max_rep)\n",
    "    sorted_data[i] = data[idx]\n",
    "del data\n",
    "epoched_data.append(sorted_data[:, :, :, int(0.05*512):])\n",
    "img_conditions.append(img_cond)\n",
    "del sorted_data"
   ]
  },
  {
   "cell_type": "code",
   "execution_count": 41,
   "metadata": {},
   "outputs": [
    {
     "data": {
      "text/plain": [
       "(960, 4, 64, 309)"
      ]
     },
     "execution_count": 41,
     "metadata": {},
     "output_type": "execute_result"
    }
   ],
   "source": [
    "epoched_data[0].shape"
   ]
  },
  {
   "cell_type": "code",
   "execution_count": null,
   "metadata": {},
   "outputs": [],
   "source": []
  }
 ],
 "metadata": {
  "kernelspec": {
   "display_name": "Python 3",
   "language": "python",
   "name": "python3"
  },
  "language_info": {
   "codemirror_mode": {
    "name": "ipython",
    "version": 3
   },
   "file_extension": ".py",
   "mimetype": "text/x-python",
   "name": "python",
   "nbconvert_exporter": "python",
   "pygments_lexer": "ipython3",
   "version": "3.10.14"
  }
 },
 "nbformat": 4,
 "nbformat_minor": 2
}
