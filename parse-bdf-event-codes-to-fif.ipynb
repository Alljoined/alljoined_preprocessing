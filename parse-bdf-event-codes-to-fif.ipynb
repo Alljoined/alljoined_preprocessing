{
 "cells": [
  {
   "cell_type": "code",
   "execution_count": 1,
   "metadata": {},
   "outputs": [],
   "source": [
    "# Script from steps 1-7\n",
    "import mne\n",
    "import pandas as pd\n",
    "import os\n",
    "import numpy as np\n",
    "import csv"
   ]
  },
  {
   "cell_type": "code",
   "execution_count": 2,
   "metadata": {},
   "outputs": [
    {
     "name": "stdout",
     "output_type": "stream",
     "text": [
      "Extracting EDF parameters from /srv/eeg_reconstruction/shared/biosemi-dataset/bdf/subj08_session2.bdf...\n",
      "BDF file detected\n",
      "Setting channel info structure...\n",
      "Creating raw.info structure...\n",
      "Reading 0 ... 1777151  =      0.000 ...  3470.998 secs...\n",
      "Channels: ['Fp1', 'AF7', 'AF3', 'F1', 'F3', 'F5', 'F7', 'FT7', 'FC5', 'FC3', 'FC1', 'C1', 'C3', 'C5', 'T7', 'TP7', 'CP5', 'CP3', 'CP1', 'P1', 'P3', 'P5', 'P7', 'P9', 'PO7', 'PO3', 'O1', 'Iz', 'Oz', 'POz', 'Pz', 'CPz', 'Fpz', 'Fp2', 'AF8', 'AF4', 'AFz', 'Fz', 'F2', 'F4', 'F6', 'F8', 'FT8', 'FC6', 'FC4', 'FC2', 'FCz', 'Cz', 'C2', 'C4', 'C6', 'T8', 'TP8', 'CP6', 'CP4', 'CP2', 'P2', 'P4', 'P6', 'P8', 'P10', 'PO8', 'PO4', 'O2', 'Status']\n"
     ]
    }
   ],
   "source": [
    "DATA_PATH = \"/srv/eeg_reconstruction/shared/biosemi-dataset\"\n",
    "bdf_file = 'subj08_session2'\n",
    "\n",
    "bdf_file_path = os.path.join(DATA_PATH, 'bdf', f\"{bdf_file}.bdf\") \n",
    "\n",
    "# Read the BDF file\n",
    "raw = mne.io.read_raw_bdf(bdf_file_path, preload=True)\n",
    "# fiff_file = 'subj03_session1'\n",
    "# fiff_file_path = 'subj03_session1.fif'\n",
    "# raw = mne.io.read_raw_fif(fiff_file, preload=True)\n",
    "print(\"Channels:\", raw.ch_names)"
   ]
  },
  {
   "cell_type": "code",
   "execution_count": 3,
   "metadata": {},
   "outputs": [
    {
     "name": "stdout",
     "output_type": "stream",
     "text": [
      "Trigger channel Status has a non-zero initial value of {initial_value} (consider using initial_event=True to detect this event)\n",
      "12716 events found on stim channel Status\n",
      "Event IDs: [    1     2     3     4     5     6     7     8     9    10    11    12\n",
      "    13    14    15    16    17    18    19    20    21    22    23    24\n",
      "    25    26    27    28    29    30    31    32    33    34    35    36\n",
      "    37    38    39    40    41    42    43    44    45    46    47    48\n",
      "    49    50    51    52    53    54    55    56    57    58    59    60\n",
      "    61    62    63    64    65    66    67    68    69    70    71    72\n",
      "    73    74    75    76    77    78    79    80    81    82    83    84\n",
      "    85    86    87    88    89    90    91    92    93    94    95    96\n",
      "    97    98    99   100   101   102   103   104   105   106   107   108\n",
      "   109   110   111   112   113   114   115   116   117   118   119   120\n",
      "   151   152   153   154   155   156   157   158   159   160   161   162\n",
      "   163   164   165   166   201   202   203   204   205   206   207   208\n",
      "   209   210   211   212   213   214   215   216   251   252   253   254\n",
      " 65536 65734]\n",
      "events.shape: (12716, 3)\n",
      "events[:10]: [[  454 65536 65734]\n",
      " [  723     0   201]\n",
      " [ 1110     0     1]\n",
      " [ 1122     0    85]\n",
      " [ 1461     0   252]\n",
      " [ 1516     0     1]\n",
      " [ 1527     0   117]\n",
      " [ 1862     0   252]\n",
      " [ 1917     0     1]\n",
      " [ 1929     0   103]]\n",
      "events[-10:]: [[1775638       0     116]\n",
      " [1775968       0     252]\n",
      " [1776027       0      16]\n",
      " [1776039       0     104]\n",
      " [1776378       0     252]\n",
      " [1776433       0      16]\n",
      " [1776444       0      30]\n",
      " [1776771       0     252]\n",
      " [1776827       0      16]\n",
      " [1776839       0      43]]\n"
     ]
    }
   ],
   "source": [
    "events = mne.find_events(raw, stim_channel='Status', shortest_event=1)\n",
    "print(\"events.shape:\", events.shape)\n",
    "print(\"events[:10]:\", events[:10])\n",
    "print(\"events[-10:]:\", events[-10:])"
   ]
  },
  {
   "cell_type": "code",
   "execution_count": 4,
   "metadata": {},
   "outputs": [
    {
     "name": "stdout",
     "output_type": "stream",
     "text": [
      "[    1     2     3     4     5     6     7     8     9    10    11    12\n",
      "    13    14    15    16    17    18    19    20    21    22    23    24\n",
      "    25    26    27    28    29    30    31    32    33    34    35    36\n",
      "    37    38    39    40    41    42    43    44    45    46    47    48\n",
      "    49    50    51    52    53    54    55    56    57    58    59    60\n",
      "    61    62    63    64    65    66    67    68    69    70    71    72\n",
      "    73    74    75    76    77    78    79    80    81    82    83    84\n",
      "    85    86    87    88    89    90    91    92    93    94    95    96\n",
      "    97    98    99   100   101   102   103   104   105   106   107   108\n",
      "   109   110   111   112   113   114   115   116   117   118   119   120\n",
      "   151   152   153   154   155   156   157   158   159   160   161   162\n",
      "   163   164   165   166   201   202   203   204   205   206   207   208\n",
      "   209   210   211   212   213   214   215   216   251   252   253   254\n",
      " 65536 65734]\n"
     ]
    },
    {
     "data": {
      "text/plain": [
       "'\\n1. **198:** start\\n2. **199:** stop\\n3. **201:** train block\\n4. **202-217:** testing blocks\\n5. **START_RECORD = 198; % the trigger to start the EEG recording**\\n6. **STOP_RECORD = 199; % the trigger to stop the EEG recording**\\n7. **CORRECT_HIT = 254; % the trigger that records a correct hit to a catch stimulus**\\n8. **FALSE_ALARM = 253; % the trigger that records a false hit to an experimental stimulus**\\n9. **CORRECT_REJ = 252; % the trigger that records a correct no-key to an experiment stimulus**\\n10. **MISS = 251; % the trigger that records a false no-key to a catch stimulus**\\n'"
      ]
     },
     "execution_count": 4,
     "metadata": {},
     "output_type": "execute_result"
    }
   ],
   "source": [
    "unique_event_ids = np.unique(events[:, 2])  # Extract unique event IDs\n",
    "print(unique_event_ids)\n",
    "\n",
    "'''\n",
    "1. **198:** start\n",
    "2. **199:** stop\n",
    "3. **201:** train block\n",
    "4. **202-217:** testing blocks\n",
    "5. **START_RECORD = 198; % the trigger to start the EEG recording**\n",
    "6. **STOP_RECORD = 199; % the trigger to stop the EEG recording**\n",
    "7. **CORRECT_HIT = 254; % the trigger that records a correct hit to a catch stimulus**\n",
    "8. **FALSE_ALARM = 253; % the trigger that records a false hit to an experimental stimulus**\n",
    "9. **CORRECT_REJ = 252; % the trigger that records a correct no-key to an experiment stimulus**\n",
    "10. **MISS = 251; % the trigger that records a false no-key to a catch stimulus**\n",
    "'''"
   ]
  },
  {
   "cell_type": "code",
   "execution_count": 5,
   "metadata": {},
   "outputs": [],
   "source": [
    "# Output our events into a .csv file\n",
    "csv_file_path = os.path.join('raw_csv', f\"{bdf_file}.csv\") \n",
    "os.makedirs(os.path.dirname(csv_file_path), exist_ok=True)\n",
    "\n",
    "with open(csv_file_path, mode='w', newline='') as file:\n",
    "    writer = csv.writer(file)\n",
    "    \n",
    "    # Write the header row\n",
    "    writer.writerow(['onset', 'sig', 'code'])\n",
    "    \n",
    "    # Write the data rows\n",
    "    for event in events:\n",
    "        writer.writerow(event)"
   ]
  },
  {
   "cell_type": "markdown",
   "metadata": {},
   "source": [
    "the cell below consolidates the triplet event codes in the raw csv file in a single event code in the parsed csv file. Oddballs are ignored. If an error is outputted, the raw csv file likely has a phantom event code, and will require manual inspection to remove it."
   ]
  },
  {
   "cell_type": "code",
   "execution_count": 11,
   "metadata": {},
   "outputs": [
    {
     "name": "stdout",
     "output_type": "stream",
     "text": [
      "Saved to:  parsed_csv/subj08_session2.csv\n"
     ]
    }
   ],
   "source": [
    "def create_new_row(row, img_idx):\n",
    "    new_row = row.copy()\n",
    "    new_row.iloc[2] = img_idx\n",
    "\n",
    "    return new_row\n",
    "\n",
    "raw_eeg_df = pd.read_csv(csv_file_path)\n",
    "new_df = pd.DataFrame(columns=raw_eeg_df.columns)\n",
    "\n",
    "i = 2\n",
    "block_number = 1\n",
    "block_trigger_offset = 150\n",
    "error_count = 0\n",
    "\n",
    "while i < raw_eeg_df.shape[0] - 2:\n",
    "    \n",
    "    # New block, increment block number and add a block code to new csv\n",
    "    if raw_eeg_df.iloc[i, 2] == 65536:\n",
    "        block_number += 1\n",
    "        i+=3\n",
    "        \n",
    "    first_row_event_code = raw_eeg_df.iloc[i, 2]\n",
    "    second_row_event_code = raw_eeg_df.iloc[i+1, 2]\n",
    "    third_row_event_code = raw_eeg_df.iloc[i+2, 2]\n",
    "\n",
    "   #  We use this for the old trigger script, for sessions 4 and lower.\n",
    "    # if first_row_event_code > 100:\n",
    "    #     second_row_event_code -= 100\n",
    "    #     first_row_event_code += 50\n",
    "\n",
    "    # 254 - Oddball - Correct - hit \n",
    "    if third_row_event_code == 254 and first_row_event_code == block_number+block_trigger_offset:\n",
    "        pass \n",
    "    \n",
    "    # # 251 - Oddball - Miss - no hit\n",
    "    elif third_row_event_code == 251 and first_row_event_code == block_number+block_trigger_offset:\n",
    "        pass\n",
    "        \n",
    "    # 252 - Correct - no hit  \n",
    "    elif third_row_event_code == 252 and first_row_event_code == block_number:\n",
    "        img_idx = ((block_number - 1) % 8) * 120 + second_row_event_code\n",
    "        modified_row = create_new_row(raw_eeg_df.iloc[i], img_idx)\n",
    "        new_df = new_df._append(modified_row, ignore_index=True)\n",
    "        \n",
    "    # 253 - False hit \n",
    "    elif third_row_event_code == 253 and first_row_event_code == block_number:\n",
    "        img_idx = ((block_number - 1) % 8) * 120 + second_row_event_code\n",
    "        modified_row = create_new_row(raw_eeg_df.iloc[i], img_idx)\n",
    "        new_df = new_df._append(modified_row, ignore_index=True)\n",
    "\n",
    "    else:\n",
    "        if error_count < 10:\n",
    "            error_count += 1\n",
    "            print(f'Error in line {i+2}:', first_row_event_code, third_row_event_code)\n",
    "\n",
    "    # Jump 3 rows for next trial\n",
    "    i += 3\n",
    "\n",
    "# Save data\n",
    "final_output_path = os.path.join('parsed_csv', f\"{bdf_file}.csv\") \n",
    "os.makedirs(os.path.dirname(final_output_path), exist_ok=True)\n",
    "new_df.to_csv(final_output_path, index=False)\n",
    "print('Saved to: ', final_output_path)"
   ]
  },
  {
   "cell_type": "code",
   "execution_count": 12,
   "metadata": {},
   "outputs": [
    {
     "name": "stdout",
     "output_type": "stream",
     "text": [
      "Stimuli that appear less than 4 times: [471, 883, 940]\n",
      "Stimuli that appear more than 4 times: []\n"
     ]
    }
   ],
   "source": [
    "# Confirm that all images appear 4 times\n",
    "# Step 1: Load the CSV file\n",
    "\n",
    "events_df = pd.read_csv(final_output_path)\n",
    "\n",
    "\n",
    "code_counts = events_df.groupby('code').size()\n",
    "codes_less = code_counts[code_counts < 4].index.tolist()\n",
    "codes_more = code_counts[code_counts > 4].index.tolist()\n",
    "\n",
    "print(\"Stimuli that appear less than 4 times:\", codes_less)\n",
    "print(\"Stimuli that appear more than 4 times:\", codes_more)"
   ]
  },
  {
   "cell_type": "code",
   "execution_count": 13,
   "metadata": {},
   "outputs": [
    {
     "name": "stdout",
     "output_type": "stream",
     "text": [
      "Number of trials: 3837\n",
      "Number of repetitions for unique images:\n",
      "count\n",
      "4    957\n",
      "3      3\n",
      "Name: count, dtype: int64\n"
     ]
    }
   ],
   "source": [
    "parsed_eeg_df = pd.read_csv(final_output_path)\n",
    "\n",
    "# Count the number of trials\n",
    "num_trials = parsed_eeg_df.shape[0]\n",
    "print(\"Number of trials:\", num_trials)\n",
    "\n",
    "# Count the number of repetitions for each unique image\n",
    "image_counts = parsed_eeg_df['code'].value_counts()\n",
    "print(\"Number of repetitions for unique images:\")\n",
    "print(image_counts.value_counts())"
   ]
  },
  {
   "cell_type": "code",
   "execution_count": 14,
   "metadata": {},
   "outputs": [
    {
     "name": "stdout",
     "output_type": "stream",
     "text": [
      "Extracting EDF parameters from /srv/eeg_reconstruction/shared/biosemi-dataset/bdf/subj08_session2.bdf...\n",
      "BDF file detected\n",
      "Setting channel info structure...\n",
      "Creating raw.info structure...\n",
      "Reading 0 ... 1777151  =      0.000 ...  3470.998 secs...\n",
      "Writing /srv/eeg_reconstruction/shared/biosemi-dataset/fif/subj08_session2_eeg.fif\n",
      "Closing /srv/eeg_reconstruction/shared/biosemi-dataset/fif/subj08_session2_eeg.fif\n",
      "[done]\n",
      "Opening raw data file /srv/eeg_reconstruction/shared/biosemi-dataset/fif/subj08_session2_eeg.fif...\n",
      "Isotrak not found\n",
      "    Range : 0 ... 1777151 =      0.000 ...  3470.998 secs\n",
      "Ready.\n",
      "3837 events found on stim channel Status\n",
      "Event IDs: [  1   2   3   4   5   6   7   8   9  10  11  12  13  14  15  16  17  18\n",
      "  19  20  21  22  23  24  25  26  27  28  29  30  31  32  33  34  35  36\n",
      "  37  38  39  40  41  42  43  44  45  46  47  48  49  50  51  52  53  54\n",
      "  55  56  57  58  59  60  61  62  63  64  65  66  67  68  69  70  71  72\n",
      "  73  74  75  76  77  78  79  80  81  82  83  84  85  86  87  88  89  90\n",
      "  91  92  93  94  95  96  97  98  99 100 101 102 103 104 105 106 107 108\n",
      " 109 110 111 112 113 114 115 116 117 118 119 120 121 122 123 124 125 126\n",
      " 127 128 129 130 131 132 133 134 135 136 137 138 139 140 141 142 143 144\n",
      " 145 146 147 148 149 150 151 152 153 154 155 156 157 158 159 160 161 162\n",
      " 163 164 165 166 167 168 169 170 171 172 173 174 175 176 177 178 179 180\n",
      " 181 182 183 184 185 186 187 188 189 190 191 192 193 194 195 196 197 198\n",
      " 199 200 201 202 203 204 205 206 207 208 209 210 211 212 213 214 215 216\n",
      " 217 218 219 220 221 222 223 224 225 226 227 228 229 230 231 232 233 234\n",
      " 235 236 237 238 239 240 241 242 243 244 245 246 247 248 249 250 251 252\n",
      " 253 254 255 256 257 258 259 260 261 262 263 264 265 266 267 268 269 270\n",
      " 271 272 273 274 275 276 277 278 279 280 281 282 283 284 285 286 287 288\n",
      " 289 290 291 292 293 294 295 296 297 298 299 300 301 302 303 304 305 306\n",
      " 307 308 309 310 311 312 313 314 315 316 317 318 319 320 321 322 323 324\n",
      " 325 326 327 328 329 330 331 332 333 334 335 336 337 338 339 340 341 342\n",
      " 343 344 345 346 347 348 349 350 351 352 353 354 355 356 357 358 359 360\n",
      " 361 362 363 364 365 366 367 368 369 370 371 372 373 374 375 376 377 378\n",
      " 379 380 381 382 383 384 385 386 387 388 389 390 391 392 393 394 395 396\n",
      " 397 398 399 400 401 402 403 404 405 406 407 408 409 410 411 412 413 414\n",
      " 415 416 417 418 419 420 421 422 423 424 425 426 427 428 429 430 431 432\n",
      " 433 434 435 436 437 438 439 440 441 442 443 444 445 446 447 448 449 450\n",
      " 451 452 453 454 455 456 457 458 459 460 461 462 463 464 465 466 467 468\n",
      " 469 470 471 472 473 474 475 476 477 478 479 480 481 482 483 484 485 486\n",
      " 487 488 489 490 491 492 493 494 495 496 497 498 499 500 501 502 503 504\n",
      " 505 506 507 508 509 510 511 512 513 514 515 516 517 518 519 520 521 522\n",
      " 523 524 525 526 527 528 529 530 531 532 533 534 535 536 537 538 539 540\n",
      " 541 542 543 544 545 546 547 548 549 550 551 552 553 554 555 556 557 558\n",
      " 559 560 561 562 563 564 565 566 567 568 569 570 571 572 573 574 575 576\n",
      " 577 578 579 580 581 582 583 584 585 586 587 588 589 590 591 592 593 594\n",
      " 595 596 597 598 599 600 601 602 603 604 605 606 607 608 609 610 611 612\n",
      " 613 614 615 616 617 618 619 620 621 622 623 624 625 626 627 628 629 630\n",
      " 631 632 633 634 635 636 637 638 639 640 641 642 643 644 645 646 647 648\n",
      " 649 650 651 652 653 654 655 656 657 658 659 660 661 662 663 664 665 666\n",
      " 667 668 669 670 671 672 673 674 675 676 677 678 679 680 681 682 683 684\n",
      " 685 686 687 688 689 690 691 692 693 694 695 696 697 698 699 700 701 702\n",
      " 703 704 705 706 707 708 709 710 711 712 713 714 715 716 717 718 719 720\n",
      " 721 722 723 724 725 726 727 728 729 730 731 732 733 734 735 736 737 738\n",
      " 739 740 741 742 743 744 745 746 747 748 749 750 751 752 753 754 755 756\n",
      " 757 758 759 760 761 762 763 764 765 766 767 768 769 770 771 772 773 774\n",
      " 775 776 777 778 779 780 781 782 783 784 785 786 787 788 789 790 791 792\n",
      " 793 794 795 796 797 798 799 800 801 802 803 804 805 806 807 808 809 810\n",
      " 811 812 813 814 815 816 817 818 819 820 821 822 823 824 825 826 827 828\n",
      " 829 830 831 832 833 834 835 836 837 838 839 840 841 842 843 844 845 846\n",
      " 847 848 849 850 851 852 853 854 855 856 857 858 859 860 861 862 863 864\n",
      " 865 866 867 868 869 870 871 872 873 874 875 876 877 878 879 880 881 882\n",
      " 883 884 885 886 887 888 889 890 891 892 893 894 895 896 897 898 899 900\n",
      " 901 902 903 904 905 906 907 908 909 910 911 912 913 914 915 916 917 918\n",
      " 919 920 921 922 923 924 925 926 927 928 929 930 931 932 933 934 935 936\n",
      " 937 938 939 940 941 942 943 944 945 946 947 948 949 950 951 952 953 954\n",
      " 955 956 957 958 959 960]\n",
      "events.shape: (3837, 3)\n"
     ]
    }
   ],
   "source": [
    "# Prepare the events array required by MNE\n",
    "events_array = events_df[['onset', 'sig', 'code']].to_numpy()\n",
    "\n",
    "# Step 2: Load the BDF file\n",
    "raw = mne.io.read_raw_bdf(bdf_file_path, preload=True)\n",
    "\n",
    "# Step 3 & 4: Override events\n",
    "# This example assumes you want to replace all existing events\n",
    "raw.add_events(events_array, stim_channel='Status', replace=True)\n",
    "\n",
    "# Step 5: Save the modified BDF file\n",
    "# Note: MNE does not support saving in BDF format directly, so consider saving in a different format or use a different library for BDF writing\n",
    "fif_path = os.path.join(DATA_PATH, 'fif', f\"{bdf_file}_eeg.fif\") \n",
    "os.makedirs(os.path.dirname(fif_path), exist_ok=True)\n",
    "raw.save(fif_path, overwrite=True)\n",
    "\n",
    "# Step 6: Check the new BDF file\n",
    "raw_fif = mne.io.read_raw_fif(fif_path)\n",
    "events = mne.find_events(raw_fif)\n",
    "print(\"events.shape:\", events.shape)"
   ]
  },
  {
   "cell_type": "code",
   "execution_count": null,
   "metadata": {},
   "outputs": [],
   "source": []
  }
 ],
 "metadata": {
  "kernelspec": {
   "display_name": "ajpreproc",
   "language": "python",
   "name": "python3"
  },
  "language_info": {
   "codemirror_mode": {
    "name": "ipython",
    "version": 3
   },
   "file_extension": ".py",
   "mimetype": "text/x-python",
   "name": "python",
   "nbconvert_exporter": "python",
   "pygments_lexer": "ipython3",
   "version": "3.10.14"
  }
 },
 "nbformat": 4,
 "nbformat_minor": 2
}
